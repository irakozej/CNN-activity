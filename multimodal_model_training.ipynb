{
  "nbformat": 4,
  "nbformat_minor": 0,
  "metadata": {
    "colab": {
      "provenance": [],
      "authorship_tag": "ABX9TyOT24SsZ3hEHYmmr2JemBGp",
      "include_colab_link": true
    },
    "kernelspec": {
      "name": "python3",
      "display_name": "Python 3"
    },
    "language_info": {
      "name": "python"
    }
  },
  "cells": [
    {
      "cell_type": "markdown",
      "metadata": {
        "id": "view-in-github",
        "colab_type": "text"
      },
      "source": [
        "<a href=\"https://colab.research.google.com/github/irakozej/CNN-activity/blob/main/multimodal_model_training.ipynb\" target=\"_parent\"><img src=\"https://colab.research.google.com/assets/colab-badge.svg\" alt=\"Open In Colab\"/></a>"
      ]
    },
    {
      "cell_type": "code",
      "source": [],
      "metadata": {
        "id": "4y5pREU0n0DK"
      },
      "execution_count": null,
      "outputs": []
    },
    {
      "cell_type": "markdown",
      "source": [
        "## Model 1: Facial Recognition Model (Random Forest)"
      ],
      "metadata": {
        "id": "oroR516cZpBV"
      }
    },
    {
      "cell_type": "markdown",
      "source": [
        "#### Description:\n",
        "This model classifies whether a face belongs to a known user or not based on the extracted image features (e.g., histogram, embeddings).\n"
      ],
      "metadata": {
        "id": "zXQo0Nn-Zwtw"
      }
    },
    {
      "cell_type": "code",
      "source": [
        "from google.colab import drive\n",
        "drive.mount('/content/drive')\n"
      ],
      "metadata": {
        "colab": {
          "base_uri": "https://localhost:8080/"
        },
        "id": "b_oLNrpFdPLs",
        "outputId": "b1c161f3-c342-48c0-debe-31a176832f42"
      },
      "execution_count": 2,
      "outputs": [
        {
          "output_type": "stream",
          "name": "stdout",
          "text": [
            "Mounted at /content/drive\n"
          ]
        }
      ]
    },
    {
      "cell_type": "code",
      "source": [
        "import os\n",
        "\n",
        "# Set the folder path (adjust if your files are in a subfolder)\n",
        "folder_path = '/content/drive/MyDrive/'\n",
        "\n",
        "\n"
      ],
      "metadata": {
        "collapsed": true,
        "id": "R9_rj25Cdqq1"
      },
      "execution_count": 32,
      "outputs": []
    },
    {
      "cell_type": "code",
      "source": [
        "from google.colab import files\n",
        "uploaded = files.upload()\n"
      ],
      "metadata": {
        "colab": {
          "base_uri": "https://localhost:8080/",
          "height": 215
        },
        "id": "LZea5yIPbel6",
        "outputId": "c14c1093-38c5-4d4e-ca7f-c60c07f30065"
      },
      "execution_count": 33,
      "outputs": [
        {
          "output_type": "display_data",
          "data": {
            "text/plain": [
              "<IPython.core.display.HTML object>"
            ],
            "text/html": [
              "\n",
              "     <input type=\"file\" id=\"files-f38a57e9-8a44-4362-9ae2-909c9a6b83ee\" name=\"files[]\" multiple disabled\n",
              "        style=\"border:none\" />\n",
              "     <output id=\"result-f38a57e9-8a44-4362-9ae2-909c9a6b83ee\">\n",
              "      Upload widget is only available when the cell has been executed in the\n",
              "      current browser session. Please rerun this cell to enable.\n",
              "      </output>\n",
              "      <script>// Copyright 2017 Google LLC\n",
              "//\n",
              "// Licensed under the Apache License, Version 2.0 (the \"License\");\n",
              "// you may not use this file except in compliance with the License.\n",
              "// You may obtain a copy of the License at\n",
              "//\n",
              "//      http://www.apache.org/licenses/LICENSE-2.0\n",
              "//\n",
              "// Unless required by applicable law or agreed to in writing, software\n",
              "// distributed under the License is distributed on an \"AS IS\" BASIS,\n",
              "// WITHOUT WARRANTIES OR CONDITIONS OF ANY KIND, either express or implied.\n",
              "// See the License for the specific language governing permissions and\n",
              "// limitations under the License.\n",
              "\n",
              "/**\n",
              " * @fileoverview Helpers for google.colab Python module.\n",
              " */\n",
              "(function(scope) {\n",
              "function span(text, styleAttributes = {}) {\n",
              "  const element = document.createElement('span');\n",
              "  element.textContent = text;\n",
              "  for (const key of Object.keys(styleAttributes)) {\n",
              "    element.style[key] = styleAttributes[key];\n",
              "  }\n",
              "  return element;\n",
              "}\n",
              "\n",
              "// Max number of bytes which will be uploaded at a time.\n",
              "const MAX_PAYLOAD_SIZE = 100 * 1024;\n",
              "\n",
              "function _uploadFiles(inputId, outputId) {\n",
              "  const steps = uploadFilesStep(inputId, outputId);\n",
              "  const outputElement = document.getElementById(outputId);\n",
              "  // Cache steps on the outputElement to make it available for the next call\n",
              "  // to uploadFilesContinue from Python.\n",
              "  outputElement.steps = steps;\n",
              "\n",
              "  return _uploadFilesContinue(outputId);\n",
              "}\n",
              "\n",
              "// This is roughly an async generator (not supported in the browser yet),\n",
              "// where there are multiple asynchronous steps and the Python side is going\n",
              "// to poll for completion of each step.\n",
              "// This uses a Promise to block the python side on completion of each step,\n",
              "// then passes the result of the previous step as the input to the next step.\n",
              "function _uploadFilesContinue(outputId) {\n",
              "  const outputElement = document.getElementById(outputId);\n",
              "  const steps = outputElement.steps;\n",
              "\n",
              "  const next = steps.next(outputElement.lastPromiseValue);\n",
              "  return Promise.resolve(next.value.promise).then((value) => {\n",
              "    // Cache the last promise value to make it available to the next\n",
              "    // step of the generator.\n",
              "    outputElement.lastPromiseValue = value;\n",
              "    return next.value.response;\n",
              "  });\n",
              "}\n",
              "\n",
              "/**\n",
              " * Generator function which is called between each async step of the upload\n",
              " * process.\n",
              " * @param {string} inputId Element ID of the input file picker element.\n",
              " * @param {string} outputId Element ID of the output display.\n",
              " * @return {!Iterable<!Object>} Iterable of next steps.\n",
              " */\n",
              "function* uploadFilesStep(inputId, outputId) {\n",
              "  const inputElement = document.getElementById(inputId);\n",
              "  inputElement.disabled = false;\n",
              "\n",
              "  const outputElement = document.getElementById(outputId);\n",
              "  outputElement.innerHTML = '';\n",
              "\n",
              "  const pickedPromise = new Promise((resolve) => {\n",
              "    inputElement.addEventListener('change', (e) => {\n",
              "      resolve(e.target.files);\n",
              "    });\n",
              "  });\n",
              "\n",
              "  const cancel = document.createElement('button');\n",
              "  inputElement.parentElement.appendChild(cancel);\n",
              "  cancel.textContent = 'Cancel upload';\n",
              "  const cancelPromise = new Promise((resolve) => {\n",
              "    cancel.onclick = () => {\n",
              "      resolve(null);\n",
              "    };\n",
              "  });\n",
              "\n",
              "  // Wait for the user to pick the files.\n",
              "  const files = yield {\n",
              "    promise: Promise.race([pickedPromise, cancelPromise]),\n",
              "    response: {\n",
              "      action: 'starting',\n",
              "    }\n",
              "  };\n",
              "\n",
              "  cancel.remove();\n",
              "\n",
              "  // Disable the input element since further picks are not allowed.\n",
              "  inputElement.disabled = true;\n",
              "\n",
              "  if (!files) {\n",
              "    return {\n",
              "      response: {\n",
              "        action: 'complete',\n",
              "      }\n",
              "    };\n",
              "  }\n",
              "\n",
              "  for (const file of files) {\n",
              "    const li = document.createElement('li');\n",
              "    li.append(span(file.name, {fontWeight: 'bold'}));\n",
              "    li.append(span(\n",
              "        `(${file.type || 'n/a'}) - ${file.size} bytes, ` +\n",
              "        `last modified: ${\n",
              "            file.lastModifiedDate ? file.lastModifiedDate.toLocaleDateString() :\n",
              "                                    'n/a'} - `));\n",
              "    const percent = span('0% done');\n",
              "    li.appendChild(percent);\n",
              "\n",
              "    outputElement.appendChild(li);\n",
              "\n",
              "    const fileDataPromise = new Promise((resolve) => {\n",
              "      const reader = new FileReader();\n",
              "      reader.onload = (e) => {\n",
              "        resolve(e.target.result);\n",
              "      };\n",
              "      reader.readAsArrayBuffer(file);\n",
              "    });\n",
              "    // Wait for the data to be ready.\n",
              "    let fileData = yield {\n",
              "      promise: fileDataPromise,\n",
              "      response: {\n",
              "        action: 'continue',\n",
              "      }\n",
              "    };\n",
              "\n",
              "    // Use a chunked sending to avoid message size limits. See b/62115660.\n",
              "    let position = 0;\n",
              "    do {\n",
              "      const length = Math.min(fileData.byteLength - position, MAX_PAYLOAD_SIZE);\n",
              "      const chunk = new Uint8Array(fileData, position, length);\n",
              "      position += length;\n",
              "\n",
              "      const base64 = btoa(String.fromCharCode.apply(null, chunk));\n",
              "      yield {\n",
              "        response: {\n",
              "          action: 'append',\n",
              "          file: file.name,\n",
              "          data: base64,\n",
              "        },\n",
              "      };\n",
              "\n",
              "      let percentDone = fileData.byteLength === 0 ?\n",
              "          100 :\n",
              "          Math.round((position / fileData.byteLength) * 100);\n",
              "      percent.textContent = `${percentDone}% done`;\n",
              "\n",
              "    } while (position < fileData.byteLength);\n",
              "  }\n",
              "\n",
              "  // All done.\n",
              "  yield {\n",
              "    response: {\n",
              "      action: 'complete',\n",
              "    }\n",
              "  };\n",
              "}\n",
              "\n",
              "scope.google = scope.google || {};\n",
              "scope.google.colab = scope.google.colab || {};\n",
              "scope.google.colab._files = {\n",
              "  _uploadFiles,\n",
              "  _uploadFilesContinue,\n",
              "};\n",
              "})(self);\n",
              "</script> "
            ]
          },
          "metadata": {}
        },
        {
          "output_type": "stream",
          "name": "stdout",
          "text": [
            "Saving audio_features .csv to audio_features  (1).csv\n",
            "Saving customer_social_profiles.csv to customer_social_profiles (1).csv\n",
            "Saving customer_transactions.csv to customer_transactions (1).csv\n",
            "Saving image_features (1).csv to image_features (1) (1).csv\n",
            "Saving merged_engineered_data.csv to merged_engineered_data (1).csv\n"
          ]
        }
      ]
    },
    {
      "cell_type": "markdown",
      "source": [
        "## 1. Facial Recognition Model (Random Forest)"
      ],
      "metadata": {
        "id": "5KNTegyDzGr5"
      }
    },
    {
      "cell_type": "code",
      "source": [
        "%%writefile models/facial_model.py\n",
        "# models/facial_model.py\n",
        "\n",
        "import pandas as pd\n",
        "import numpy as np\n",
        "from sklearn.model_selection import train_test_split\n",
        "from sklearn.preprocessing import LabelEncoder\n",
        "from sklearn.ensemble import RandomForestClassifier\n",
        "import joblib\n",
        "import os\n",
        "\n",
        "def train_facial_model():\n",
        "    df = pd.read_csv(\"image_features (1).csv\")\n",
        "\n",
        "    label_col = 'member_name'  # use actual column name from your dataset\n",
        "\n",
        "    # Validate label column presence\n",
        "    if label_col not in df.columns:\n",
        "        raise KeyError(f\"The '{label_col}' column is missing in the image_features.csv\")\n",
        "\n",
        "    # Drop rows with missing label values\n",
        "    df = df.dropna(subset=[label_col])\n",
        "\n",
        "    # Encode label column (target)\n",
        "    label_encoder = LabelEncoder()\n",
        "    df[label_col] = label_encoder.fit_transform(df[label_col])\n",
        "\n",
        "    # Separate features and labels\n",
        "    X = df.drop(columns=[label_col])\n",
        "    y = df[label_col]\n",
        "\n",
        "    # Encode any non-numeric feature columns\n",
        "    for col in X.columns:\n",
        "        if X[col].dtype == 'object':\n",
        "            X[col] = LabelEncoder().fit_transform(X[col])\n",
        "\n",
        "    # Split data\n",
        "    X_train, X_test, y_train, y_test = train_test_split(X, y, test_size=0.2, random_state=42)\n",
        "\n",
        "    # Train model\n",
        "    model = RandomForestClassifier(n_estimators=100, random_state=42)\n",
        "    model.fit(X_train, y_train)\n",
        "\n",
        "    # Save model and label encoder\n",
        "    os.makedirs(\"saved_models\", exist_ok=True)\n",
        "    joblib.dump(model, \"saved_models/facial_model.pkl\")\n",
        "    joblib.dump(label_encoder, \"saved_models/facial_label_encoder.pkl\")\n",
        "\n",
        "    print(\"✅ Facial recognition model trained and saved successfully!\")\n",
        "\n",
        "if __name__ == \"__main__\":\n",
        "    train_facial_model()\n"
      ],
      "metadata": {
        "colab": {
          "base_uri": "https://localhost:8080/"
        },
        "id": "yG4CSD_TxWCm",
        "outputId": "5cf26e97-4688-4dd6-c2f7-52cb1b9012ae"
      },
      "execution_count": 34,
      "outputs": [
        {
          "output_type": "stream",
          "name": "stdout",
          "text": [
            "Overwriting models/facial_model.py\n"
          ]
        }
      ]
    },
    {
      "cell_type": "code",
      "source": [
        "!python3 models/facial_model.py"
      ],
      "metadata": {
        "colab": {
          "base_uri": "https://localhost:8080/"
        },
        "id": "dQpp_JDh4gIF",
        "outputId": "be9fbf8e-91fa-4eb4-a1de-475f3cd1ea54"
      },
      "execution_count": 35,
      "outputs": [
        {
          "output_type": "stream",
          "name": "stdout",
          "text": [
            "✅ Facial recognition model trained and saved successfully!\n"
          ]
        }
      ]
    },
    {
      "cell_type": "markdown",
      "source": [
        "## 2. Audio Recognition Model (Random Forest)"
      ],
      "metadata": {
        "id": "11DdsODzzJ4p"
      }
    },
    {
      "cell_type": "code",
      "source": [
        "%%writefile models/voice_model.py\n",
        "# Voiceprint Verification Model - Random Forest\n",
        "\n",
        "import pandas as pd\n",
        "import os\n",
        "from sklearn.ensemble import RandomForestClassifier\n",
        "from sklearn.model_selection import train_test_split\n",
        "from sklearn.metrics import classification_report\n",
        "from sklearn.preprocessing import LabelEncoder\n",
        "import joblib\n",
        "\n",
        "def train_voice_model():\n",
        "    df = pd.read_csv(\"/content/drive/MyDrive/audio_features.csv\")\n",
        "\n",
        "    # ✅ Extract label from filename (e.g. 'john_01.wav' -> 'john')\n",
        "    if 'filename' not in df.columns:\n",
        "        raise KeyError(\"The 'filename' column is missing in audio_features.csv\")\n",
        "\n",
        "    df['label'] = df['filename'].apply(lambda x: os.path.basename(x).split('_')[0])\n",
        "\n",
        "    # ✅ Encode label\n",
        "    le = LabelEncoder()\n",
        "    df['label'] = le.fit_transform(df['label'])\n",
        "\n",
        "    # ✅ Features (drop filename and label)\n",
        "    X = df.drop(columns=['filename', 'label'])\n",
        "\n",
        "    # ✅ Handle non-numeric types in features\n",
        "    for col in X.columns:\n",
        "        if X[col].dtype == 'object':\n",
        "            X[col] = LabelEncoder().fit_transform(X[col])\n",
        "\n",
        "    y = df['label']\n",
        "\n",
        "    # ✅ Split\n",
        "    X_train, X_test, y_train, y_test = train_test_split(\n",
        "        X, y, test_size=0.2, random_state=42\n",
        "    )\n",
        "\n",
        "    # ✅ Train\n",
        "    model = RandomForestClassifier(n_estimators=100, random_state=42)\n",
        "    model.fit(X_train, y_train)\n",
        "\n",
        "    # ✅ Report\n",
        "    y_pred = model.predict(X_test)\n",
        "    print(\"🎤 Voice Recognition Model Report:\")\n",
        "    print(classification_report(y_test, y_pred, target_names=le.classes_))\n",
        "\n",
        "    # ✅ Save\n",
        "    os.makedirs(\"saved_models\", exist_ok=True)\n",
        "    joblib.dump(model, \"saved_models/voice_model.pkl\")\n",
        "    joblib.dump(le, \"saved_models/voice_label_encoder.pkl\")\n",
        "\n",
        "    print(\"✅ Voice model trained and saved successfully.\")\n",
        "\n",
        "if __name__ == \"__main__\":\n",
        "    train_voice_model()\n"
      ],
      "metadata": {
        "colab": {
          "base_uri": "https://localhost:8080/"
        },
        "id": "iq5CtGaozRCs",
        "outputId": "155b356f-5254-40de-d257-ca87248b8e86"
      },
      "execution_count": 36,
      "outputs": [
        {
          "output_type": "stream",
          "name": "stdout",
          "text": [
            "Overwriting models/voice_model.py\n"
          ]
        }
      ]
    },
    {
      "cell_type": "code",
      "source": [
        "!python3 models/voice_model.py"
      ],
      "metadata": {
        "colab": {
          "base_uri": "https://localhost:8080/"
        },
        "id": "fwakucqJ4lKq",
        "outputId": "36a416e5-66a7-4197-f1c3-8fe83da8955f"
      },
      "execution_count": 37,
      "outputs": [
        {
          "output_type": "stream",
          "name": "stdout",
          "text": [
            "🎤 Voice Recognition Model Report:\n",
            "              precision    recall  f1-score   support\n",
            "\n",
            "        omar       1.00      1.00      1.00         1\n",
            "\n",
            "    accuracy                           1.00         1\n",
            "   macro avg       1.00      1.00      1.00         1\n",
            "weighted avg       1.00      1.00      1.00         1\n",
            "\n",
            "✅ Voice model trained and saved successfully.\n"
          ]
        }
      ]
    },
    {
      "cell_type": "code",
      "source": [
        "import pandas as pd\n",
        "df = pd.read_csv(\"/content/drive/MyDrive/audio_features.csv\")\n",
        "print(df.columns.tolist())\n"
      ],
      "metadata": {
        "colab": {
          "base_uri": "https://localhost:8080/"
        },
        "id": "j3fJKGHN595P",
        "outputId": "1ef951da-0002-4d98-db56-4c0b83f72863"
      },
      "execution_count": 14,
      "outputs": [
        {
          "output_type": "stream",
          "name": "stdout",
          "text": [
            "['mfccs', 'rolloff', 'energy', 'filename']\n"
          ]
        }
      ]
    },
    {
      "cell_type": "markdown",
      "source": [
        "## 3. Product Recognition Model (Random Forest)"
      ],
      "metadata": {
        "id": "KqkEy9sAz-yZ"
      }
    },
    {
      "cell_type": "code",
      "source": [
        "%%writefile models/product_model.py\n",
        "\n",
        "import pandas as pd\n",
        "from sklearn.ensemble import RandomForestClassifier\n",
        "from sklearn.model_selection import train_test_split\n",
        "from sklearn.metrics import classification_report\n",
        "from sklearn.preprocessing import LabelEncoder\n",
        "import joblib\n",
        "import os\n",
        "\n",
        "def train_product_model():\n",
        "    # Load dataset\n",
        "    df = pd.read_csv(\"merged_engineered_data.csv\")  # Adjust path if needed\n",
        "\n",
        "    label_col = \"product_category\"\n",
        "    if label_col not in df.columns:\n",
        "        raise KeyError(f\"'{label_col}' column not found in dataset\")\n",
        "\n",
        "    # Drop rows with missing label\n",
        "    df = df.dropna(subset=[label_col])\n",
        "\n",
        "    # Encode all object (string) columns\n",
        "    label_encoders = {}\n",
        "    for col in df.columns:\n",
        "        if df[col].dtype == 'object':\n",
        "            le = LabelEncoder()\n",
        "            df[col] = le.fit_transform(df[col].astype(str))\n",
        "            label_encoders[col] = le\n",
        "\n",
        "    # Split into features and label\n",
        "    X = df.drop(label_col, axis=1)\n",
        "    y = df[label_col]\n",
        "\n",
        "    # Train-test split\n",
        "    X_train, X_test, y_train, y_test = train_test_split(\n",
        "        X, y, test_size=0.2, random_state=42\n",
        "    )\n",
        "\n",
        "    # Train using Random Forest\n",
        "    model = RandomForestClassifier(n_estimators=100, random_state=42)\n",
        "    model.fit(X_train, y_train)\n",
        "\n",
        "    # Predict and evaluate\n",
        "    y_pred = model.predict(X_test)\n",
        "    print(\"✅ Product Recommendation Model Report:\")\n",
        "    print(classification_report(y_test, y_pred))\n",
        "\n",
        "    # Save model and encoders\n",
        "    os.makedirs(\"saved_models\", exist_ok=True)\n",
        "    joblib.dump(model, \"saved_models/product_model.pkl\")\n",
        "    joblib.dump(label_encoders, \"saved_models/product_label_encoders.pkl\")\n",
        "\n",
        "    print(\"✅ Model and encoders saved successfully.\")\n",
        "\n",
        "if __name__ == \"__main__\":\n",
        "    train_product_model()\n"
      ],
      "metadata": {
        "colab": {
          "base_uri": "https://localhost:8080/"
        },
        "id": "Fr5g0Fc70q-u",
        "outputId": "2d90edba-d92b-4e30-a320-e941b26ae84f"
      },
      "execution_count": 38,
      "outputs": [
        {
          "output_type": "stream",
          "name": "stdout",
          "text": [
            "Overwriting models/product_model.py\n"
          ]
        }
      ]
    },
    {
      "cell_type": "code",
      "source": [
        "!python3 models/product_model.py"
      ],
      "metadata": {
        "colab": {
          "base_uri": "https://localhost:8080/"
        },
        "id": "FPSWIk9N60T0",
        "outputId": "deb88f4e-231b-47d1-9601-e43d53e2a36e"
      },
      "execution_count": 39,
      "outputs": [
        {
          "output_type": "stream",
          "name": "stdout",
          "text": [
            "✅ Product Recommendation Model Report:\n",
            "              precision    recall  f1-score   support\n",
            "\n",
            "           0       0.80      0.80      0.80        10\n",
            "           1       0.50      0.40      0.44         5\n",
            "           2       0.50      0.60      0.55        10\n",
            "           3       0.70      1.00      0.82         7\n",
            "           4       0.71      0.45      0.56        11\n",
            "\n",
            "    accuracy                           0.65        43\n",
            "   macro avg       0.64      0.65      0.63        43\n",
            "weighted avg       0.66      0.65      0.64        43\n",
            "\n",
            "✅ Model and encoders saved successfully.\n"
          ]
        }
      ]
    },
    {
      "cell_type": "code",
      "source": [
        "import pandas as pd\n",
        "\n",
        "df = pd.read_csv(\"/content/drive/MyDrive/merged_engineered_data.csv\")\n",
        "print(df.columns.tolist())\n"
      ],
      "metadata": {
        "colab": {
          "base_uri": "https://localhost:8080/"
        },
        "id": "dk7J6O-htlss",
        "outputId": "65b6cf1d-dba1-4f4e-e78a-6a2c031a68b3"
      },
      "execution_count": 47,
      "outputs": [
        {
          "output_type": "stream",
          "name": "stdout",
          "text": [
            "['customer_id_new', 'social_media_platform', 'engagement_score', 'purchase_interest_score', 'review_sentiment', 'customer_id_new_numeric', 'customer_id_legacy', 'transaction_id', 'purchase_amount', 'purchase_date', 'product_category', 'customer_rating', 'purchase_month', 'purchase_day_of_week', 'total_purchase_amount', 'number_of_transactions', 'average_customer_rating']\n"
          ]
        }
      ]
    },
    {
      "cell_type": "code",
      "source": [
        "import pandas as pd\n",
        "\n",
        "df = pd.read_csv(\"image_features.csv\")\n",
        "print(df.columns.tolist())\n"
      ],
      "metadata": {
        "colab": {
          "base_uri": "https://localhost:8080/"
        },
        "id": "3YFxBCmc2Geo",
        "outputId": "7719b600-4842-4371-f0b4-29ed343517cb"
      },
      "execution_count": 82,
      "outputs": [
        {
          "output_type": "stream",
          "name": "stdout",
          "text": [
            "['member_name', 'expression', 'augmentation_type', 'image_path', 'height', 'width', 'aspect_ratio', 'total_pixels', 'blue_mean', 'blue_std', 'blue_min', 'blue_max', 'blue_median', 'green_mean', 'green_std', 'green_min', 'green_max', 'green_median', 'red_mean', 'red_std', 'red_min', 'red_max', 'red_median', 'hue_mean', 'hue_std', 'saturation_mean', 'saturation_std', 'value_mean', 'value_std', 'gray_mean', 'gray_std', 'gray_min', 'gray_max', 'gray_median', 'blue_hist_0', 'blue_hist_1', 'blue_hist_2', 'blue_hist_3', 'blue_hist_4', 'blue_hist_5', 'blue_hist_6', 'blue_hist_7', 'blue_hist_8', 'blue_hist_9', 'blue_hist_10', 'blue_hist_11', 'blue_hist_12', 'blue_hist_13', 'blue_hist_14', 'blue_hist_15', 'green_hist_0', 'green_hist_1', 'green_hist_2', 'green_hist_3', 'green_hist_4', 'green_hist_5', 'green_hist_6', 'green_hist_7', 'green_hist_8', 'green_hist_9', 'green_hist_10', 'green_hist_11', 'green_hist_12', 'green_hist_13', 'green_hist_14', 'green_hist_15', 'red_hist_0', 'red_hist_1', 'red_hist_2', 'red_hist_3', 'red_hist_4', 'red_hist_5', 'red_hist_6', 'red_hist_7', 'red_hist_8', 'red_hist_9', 'red_hist_10', 'red_hist_11', 'red_hist_12', 'red_hist_13', 'red_hist_14', 'red_hist_15', 'gray_hist_0', 'gray_hist_1', 'gray_hist_2', 'gray_hist_3', 'gray_hist_4', 'gray_hist_5', 'gray_hist_6', 'gray_hist_7', 'gray_hist_8', 'gray_hist_9', 'gray_hist_10', 'gray_hist_11', 'gray_hist_12', 'gray_hist_13', 'gray_hist_14', 'gray_hist_15', 'sobel_mean_x', 'sobel_mean_y', 'sobel_std_x', 'sobel_std_y', 'sobel_max_x', 'sobel_max_y', 'edge_density', 'edge_count', 'laplacian_variance', 'num_faces_detected', 'face_x', 'face_y', 'face_width', 'face_height', 'face_area', 'face_aspect_ratio', 'face_center_x', 'face_center_y', 'face_gray_mean', 'face_gray_std', 'face_blue_mean', 'face_blue_std', 'face_green_mean', 'face_green_std', 'face_red_mean', 'face_red_std']\n"
          ]
        }
      ]
    }
  ]
}